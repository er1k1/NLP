{
 "cells": [
  {
   "cell_type": "code",
   "execution_count": null,
   "metadata": {},
   "outputs": [],
   "source": [
    "from bs4 import BeautifulSoup as bs\n",
    "import requests\n",
    "import json\n",
    "import pdfminer\n",
    "from pdfminer.pdfparser import PDFSyntaxError\n",
    "import os\n",
    "import re\n",
    "ROOT_URL = \"https://www.drugs.com/answers/questions/\"\n",
    "\n",
    "\n",
    "def page_soup(url):\n",
    "    \"\"\"return a soup object\"\"\"\n",
    "    html = requests.get(url).text\n",
    "    return bs(html, 'html.parser')\n",
    "\n",
    "\n",
    "def get_pdf_hrefs(url):\n",
    "    pdf_href_list = []  # {page_num: [BULAs URIs]}\n",
    "    soup = page_soup(url)\n",
    "\n",
    "    pdf_link_list = soup.findAll('a')\n",
    "    for link in pdf_link_list:\n",
    "        if re.search('/answers/[^/]*\\.html',link.attrs['href']):\n",
    "\n",
    "            pdf_href_list.append(link.attrs['href'])\n",
    "    return pdf_href_list\n",
    "\n",
    "def dump_list_to_json_file(list_, file_name):\n",
    "    with open(file_name, 'w') as fp:\n",
    "        json.dump(list_, fp, indent=4)\n",
    "\n",
    "\n",
    "for a in range(0,9):\n",
    "    href_list = []\n",
    "    for b in range(1 + a*819, 819 + a*819):\n",
    "        query = '?page=' + str(b)\n",
    "        href_list += get_pdf_hrefs(ROOT_URL + query)\n",
    "    file_name = 'hreflist' + str(a) + '.json'\n",
    "    dump_list_to_json_file(href_list, file_name)"
   ]
  },
  {
   "cell_type": "code",
   "execution_count": 3,
   "metadata": {},
   "outputs": [
    {
     "data": {
      "text/plain": [
       "8828"
      ]
     },
     "execution_count": 3,
     "metadata": {},
     "output_type": "execute_result"
    }
   ],
   "source": [
    "len(href_list)"
   ]
  },
  {
   "cell_type": "code",
   "execution_count": null,
   "metadata": {
    "collapsed": true
   },
   "outputs": [],
   "source": []
  }
 ],
 "metadata": {
  "kernelspec": {
   "display_name": "Python 3",
   "language": "python",
   "name": "python3"
  },
  "language_info": {
   "codemirror_mode": {
    "name": "ipython",
    "version": 3
   },
   "file_extension": ".py",
   "mimetype": "text/x-python",
   "name": "python",
   "nbconvert_exporter": "python",
   "pygments_lexer": "ipython3",
   "version": "3.6.3"
  }
 },
 "nbformat": 4,
 "nbformat_minor": 2
}
